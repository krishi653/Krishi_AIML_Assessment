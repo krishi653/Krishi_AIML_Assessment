{
 "cells": [
  {
   "cell_type": "code",
   "execution_count": 1,
   "metadata": {
    "id": "4CtTXEuwX8Me"
   },
   "outputs": [],
   "source": [
    "# Importing necessary libraries\n",
    "import numpy as np\n",
    "import pandas as pd\n",
    "import matplotlib.pyplot as plt\n",
    "import seaborn as sns"
   ]
  },
  {
   "cell_type": "code",
   "execution_count": 2,
   "metadata": {
    "id": "yaIUCaYLYRYX"
   },
   "outputs": [],
   "source": [
    "# Loading the dataset\n",
    "train_data = pd.read_csv('DS_ML Coding Challenge Training Dataset.csv')\n",
    "test_data = pd.read_csv('DS_ML Coding Challenge Test Dataset.csv')"
   ]
  },
  {
   "cell_type": "markdown",
   "metadata": {
    "id": "a8L4wlf6ejjU"
   },
   "source": [
    "# **Exploratory Data Analysis**"
   ]
  },
  {
   "cell_type": "code",
   "execution_count": 3,
   "metadata": {
    "colab": {
     "base_uri": "https://localhost:8080/"
    },
    "id": "VjHcoROucIsK",
    "outputId": "855857ab-c611-49a8-d48e-33998a642f1c"
   },
   "outputs": [
    {
     "name": "stdout",
     "output_type": "stream",
     "text": [
      "Training Data Info:\n",
      "<class 'pandas.core.frame.DataFrame'>\n",
      "RangeIndex: 550176 entries, 0 to 550175\n",
      "Data columns (total 8 columns):\n",
      " #   Column             Non-Null Count   Dtype  \n",
      "---  ------             --------------   -----  \n",
      " 0   ProductType        550176 non-null  object \n",
      " 1   Manufacturer       550176 non-null  object \n",
      " 2   Area Code          550176 non-null  object \n",
      " 3   Sourcing Channel   550176 non-null  object \n",
      " 4   Product Size       550176 non-null  object \n",
      " 5   Product Type       550176 non-null  object \n",
      " 6   Month of Sourcing  550176 non-null  object \n",
      " 7   Sourcing Cost      550176 non-null  float64\n",
      "dtypes: float64(1), object(7)\n",
      "memory usage: 33.6+ MB\n",
      "None\n"
     ]
    }
   ],
   "source": [
    "# Display basic information about the training dataset\n",
    "print(\"Training Data Info:\")\n",
    "print(train_data.info())"
   ]
  },
  {
   "cell_type": "code",
   "execution_count": 4,
   "metadata": {
    "colab": {
     "base_uri": "https://localhost:8080/"
    },
    "id": "qHd1_aFocro8",
    "outputId": "5d787bd5-df68-462e-f463-2ad51dd64c41"
   },
   "outputs": [
    {
     "name": "stdout",
     "output_type": "stream",
     "text": [
      "\n",
      "Training Data Statistics:\n",
      "       Sourcing Cost\n",
      "count  550176.000000\n",
      "mean      108.817286\n",
      "std       104.390093\n",
      "min      -196.070000\n",
      "25%        57.000000\n",
      "50%       132.000000\n",
      "75%       146.150000\n",
      "max     32632.500000\n"
     ]
    }
   ],
   "source": [
    "# Display basic statistics for numerical columns in the training dataset\n",
    "print(\"\\nTraining Data Statistics:\")\n",
    "print(train_data.describe())\n"
   ]
  },
  {
   "cell_type": "code",
   "execution_count": 5,
   "metadata": {
    "id": "KQ9_cqwSvoHt"
   },
   "outputs": [],
   "source": [
    "#Import LabelEncoder\n",
    "from sklearn.preprocessing import LabelEncoder"
   ]
  },
  {
   "cell_type": "code",
   "execution_count": 6,
   "metadata": {
    "id": "GweIv5v7oR3d"
   },
   "outputs": [],
   "source": [
    "# Initialize LabelEncoder\n",
    "label_encoder = LabelEncoder()\n",
    "\n",
    "train_data['Product Type'] = label_encoder.fit_transform(train_data['Product Type'])\n",
    "train_data['Manufacturer'] = label_encoder.fit_transform(train_data['Manufacturer'])\n",
    "train_data['ProductType'] = label_encoder.fit_transform(train_data['ProductType'])\n",
    "train_data['Area Code'] = label_encoder.fit_transform(train_data['Area Code'])\n",
    "train_data['Sourcing Channel'] = label_encoder.fit_transform(train_data['Sourcing Channel'])\n",
    "train_data['Product Size'] = label_encoder.fit_transform(train_data['Product Size'])\n",
    "train_data['Month of Sourcing'] = label_encoder.fit_transform(train_data['Month of Sourcing'])\n",
    "#train_data['Sourcing Cost'] = label_encoder.fit_transform(train_data['Sourcing Cost'])"
   ]
  },
  {
   "cell_type": "code",
   "execution_count": 7,
   "metadata": {
    "colab": {
     "base_uri": "https://localhost:8080/"
    },
    "id": "18W2_oAcc5mH",
    "outputId": "4a6e5c26-a16b-40af-cd02-1a56bdd21633"
   },
   "outputs": [
    {
     "name": "stdout",
     "output_type": "stream",
     "text": [
      "\n",
      "First few rows of Training Data:\n",
      "   ProductType  Manufacturer  Area Code  Sourcing Channel  Product Size  \\\n",
      "0            2             0         19                 3             1   \n",
      "1            1             0         44                 0             1   \n",
      "2            2             1         12                 0             1   \n",
      "3            2             0          9                 3             2   \n",
      "4            1             0         19                 0             1   \n",
      "\n",
      "   Product Type  Month of Sourcing  Sourcing Cost  \n",
      "0             1                  7          10.16  \n",
      "1             1                  9         134.28  \n",
      "2             1                  2          12.46  \n",
      "3             1                  3         107.22  \n",
      "4             0                  8         197.76  \n"
     ]
    }
   ],
   "source": [
    "# Display first few rows of the training dataset\n",
    "print(\"\\nFirst few rows of Training Data:\")\n",
    "print(train_data.head())"
   ]
  },
  {
   "cell_type": "code",
   "execution_count": 8,
   "metadata": {
    "colab": {
     "base_uri": "https://localhost:8080/"
    },
    "id": "NwSabfH6dYNP",
    "outputId": "9288a53f-8314-4cd4-d2a0-e34db1815b94"
   },
   "outputs": [
    {
     "name": "stdout",
     "output_type": "stream",
     "text": [
      "\n",
      "Testing Data Info:\n",
      "<class 'pandas.core.frame.DataFrame'>\n",
      "RangeIndex: 96 entries, 0 to 95\n",
      "Data columns (total 8 columns):\n",
      " #   Column             Non-Null Count  Dtype  \n",
      "---  ------             --------------  -----  \n",
      " 0   ProductType        96 non-null     object \n",
      " 1   Manufacturer       96 non-null     object \n",
      " 2   Area Code          96 non-null     object \n",
      " 3   Sourcing Channel   96 non-null     object \n",
      " 4   Product Size       96 non-null     object \n",
      " 5   Product Type       96 non-null     object \n",
      " 6   Month of Sourcing  96 non-null     object \n",
      " 7   Sourcing Cost      96 non-null     float64\n",
      "dtypes: float64(1), object(7)\n",
      "memory usage: 6.1+ KB\n",
      "None\n"
     ]
    }
   ],
   "source": [
    "# Display basic information about the testing dataset\n",
    "print(\"\\nTesting Data Info:\")\n",
    "print(test_data.info())"
   ]
  },
  {
   "cell_type": "code",
   "execution_count": 9,
   "metadata": {
    "colab": {
     "base_uri": "https://localhost:8080/"
    },
    "id": "qvGmd4xHdcpm",
    "outputId": "16ef3b60-9da1-4aef-ae82-b114ec09c115"
   },
   "outputs": [
    {
     "name": "stdout",
     "output_type": "stream",
     "text": [
      "\n",
      "Testing Data Statistics:\n",
      "       Sourcing Cost\n",
      "count      96.000000\n",
      "mean      106.208021\n",
      "std        52.359484\n",
      "min         4.140000\n",
      "25%        59.662500\n",
      "50%       117.245000\n",
      "75%       144.915000\n",
      "max       234.710000\n"
     ]
    }
   ],
   "source": [
    "# Display basic statistics for numerical columns in the testing dataset\n",
    "print(\"\\nTesting Data Statistics:\")\n",
    "print(test_data.describe())"
   ]
  },
  {
   "cell_type": "code",
   "execution_count": 10,
   "metadata": {
    "id": "8lIaqp3gxYvU"
   },
   "outputs": [],
   "source": [
    "# Initialize LabelEncoder\n",
    "label_encoder = LabelEncoder()\n",
    "\n",
    "test_data['Product Type'] = label_encoder.fit_transform(test_data['Product Type'])\n",
    "test_data['Manufacturer'] = label_encoder.fit_transform(test_data['Manufacturer'])\n",
    "test_data['ProductType'] = label_encoder.fit_transform(test_data['ProductType'])\n",
    "test_data['Area Code'] = label_encoder.fit_transform(test_data['Area Code'])\n",
    "test_data['Sourcing Channel'] = label_encoder.fit_transform(test_data['Sourcing Channel'])\n",
    "test_data['Product Size'] = label_encoder.fit_transform(test_data['Product Size'])\n",
    "test_data['Month of Sourcing'] = label_encoder.fit_transform(test_data['Month of Sourcing'])"
   ]
  },
  {
   "cell_type": "code",
   "execution_count": 11,
   "metadata": {
    "colab": {
     "base_uri": "https://localhost:8080/"
    },
    "id": "f4ZUq9hYdfg-",
    "outputId": "8de42194-b384-4ced-e9d7-7ce61c7441fd"
   },
   "outputs": [
    {
     "name": "stdout",
     "output_type": "stream",
     "text": [
      "\n",
      "First few rows of Testing Data:\n",
      "   ProductType  Manufacturer  Area Code  Sourcing Channel  Product Size  \\\n",
      "0            0             0          0                 0             2   \n",
      "1            0             0          1                 0             1   \n",
      "2            0             0          1                 1             1   \n",
      "3            0             0          2                 0             1   \n",
      "4            0             0         11                 0             1   \n",
      "\n",
      "   Product Type  Month of Sourcing  Sourcing Cost  \n",
      "0             1                  0         103.68  \n",
      "1             1                  0         155.75  \n",
      "2             1                  0         143.02  \n",
      "3             1                  0         139.39  \n",
      "4             1                  0         169.42  \n"
     ]
    }
   ],
   "source": [
    "# Display first few rows of the testing dataset\n",
    "print(\"\\nFirst few rows of Testing Data:\")\n",
    "print(test_data.head())"
   ]
  },
  {
   "cell_type": "code",
   "execution_count": 12,
   "metadata": {
    "colab": {
     "base_uri": "https://localhost:8080/",
     "height": 423
    },
    "id": "NddNkAqehg2q",
    "outputId": "2e5b76d8-b52a-40d3-8d18-81b9702e6dfb"
   },
   "outputs": [
    {
     "data": {
      "text/html": [
       "<div>\n",
       "<style scoped>\n",
       "    .dataframe tbody tr th:only-of-type {\n",
       "        vertical-align: middle;\n",
       "    }\n",
       "\n",
       "    .dataframe tbody tr th {\n",
       "        vertical-align: top;\n",
       "    }\n",
       "\n",
       "    .dataframe thead th {\n",
       "        text-align: right;\n",
       "    }\n",
       "</style>\n",
       "<table border=\"1\" class=\"dataframe\">\n",
       "  <thead>\n",
       "    <tr style=\"text-align: right;\">\n",
       "      <th></th>\n",
       "      <th>ProductType</th>\n",
       "      <th>Manufacturer</th>\n",
       "      <th>Area Code</th>\n",
       "      <th>Sourcing Channel</th>\n",
       "      <th>Product Size</th>\n",
       "      <th>Product Type</th>\n",
       "      <th>Month of Sourcing</th>\n",
       "      <th>Sourcing Cost</th>\n",
       "    </tr>\n",
       "  </thead>\n",
       "  <tbody>\n",
       "    <tr>\n",
       "      <th>0</th>\n",
       "      <td>False</td>\n",
       "      <td>False</td>\n",
       "      <td>False</td>\n",
       "      <td>False</td>\n",
       "      <td>False</td>\n",
       "      <td>False</td>\n",
       "      <td>False</td>\n",
       "      <td>False</td>\n",
       "    </tr>\n",
       "    <tr>\n",
       "      <th>1</th>\n",
       "      <td>False</td>\n",
       "      <td>False</td>\n",
       "      <td>False</td>\n",
       "      <td>False</td>\n",
       "      <td>False</td>\n",
       "      <td>False</td>\n",
       "      <td>False</td>\n",
       "      <td>False</td>\n",
       "    </tr>\n",
       "    <tr>\n",
       "      <th>2</th>\n",
       "      <td>False</td>\n",
       "      <td>False</td>\n",
       "      <td>False</td>\n",
       "      <td>False</td>\n",
       "      <td>False</td>\n",
       "      <td>False</td>\n",
       "      <td>False</td>\n",
       "      <td>False</td>\n",
       "    </tr>\n",
       "    <tr>\n",
       "      <th>3</th>\n",
       "      <td>False</td>\n",
       "      <td>False</td>\n",
       "      <td>False</td>\n",
       "      <td>False</td>\n",
       "      <td>False</td>\n",
       "      <td>False</td>\n",
       "      <td>False</td>\n",
       "      <td>False</td>\n",
       "    </tr>\n",
       "    <tr>\n",
       "      <th>4</th>\n",
       "      <td>False</td>\n",
       "      <td>False</td>\n",
       "      <td>False</td>\n",
       "      <td>False</td>\n",
       "      <td>False</td>\n",
       "      <td>False</td>\n",
       "      <td>False</td>\n",
       "      <td>False</td>\n",
       "    </tr>\n",
       "    <tr>\n",
       "      <th>...</th>\n",
       "      <td>...</td>\n",
       "      <td>...</td>\n",
       "      <td>...</td>\n",
       "      <td>...</td>\n",
       "      <td>...</td>\n",
       "      <td>...</td>\n",
       "      <td>...</td>\n",
       "      <td>...</td>\n",
       "    </tr>\n",
       "    <tr>\n",
       "      <th>550171</th>\n",
       "      <td>False</td>\n",
       "      <td>False</td>\n",
       "      <td>False</td>\n",
       "      <td>False</td>\n",
       "      <td>False</td>\n",
       "      <td>False</td>\n",
       "      <td>False</td>\n",
       "      <td>False</td>\n",
       "    </tr>\n",
       "    <tr>\n",
       "      <th>550172</th>\n",
       "      <td>False</td>\n",
       "      <td>False</td>\n",
       "      <td>False</td>\n",
       "      <td>False</td>\n",
       "      <td>False</td>\n",
       "      <td>False</td>\n",
       "      <td>False</td>\n",
       "      <td>False</td>\n",
       "    </tr>\n",
       "    <tr>\n",
       "      <th>550173</th>\n",
       "      <td>False</td>\n",
       "      <td>False</td>\n",
       "      <td>False</td>\n",
       "      <td>False</td>\n",
       "      <td>False</td>\n",
       "      <td>False</td>\n",
       "      <td>False</td>\n",
       "      <td>False</td>\n",
       "    </tr>\n",
       "    <tr>\n",
       "      <th>550174</th>\n",
       "      <td>False</td>\n",
       "      <td>False</td>\n",
       "      <td>False</td>\n",
       "      <td>False</td>\n",
       "      <td>False</td>\n",
       "      <td>False</td>\n",
       "      <td>False</td>\n",
       "      <td>False</td>\n",
       "    </tr>\n",
       "    <tr>\n",
       "      <th>550175</th>\n",
       "      <td>False</td>\n",
       "      <td>False</td>\n",
       "      <td>False</td>\n",
       "      <td>False</td>\n",
       "      <td>False</td>\n",
       "      <td>False</td>\n",
       "      <td>False</td>\n",
       "      <td>False</td>\n",
       "    </tr>\n",
       "  </tbody>\n",
       "</table>\n",
       "<p>550176 rows × 8 columns</p>\n",
       "</div>"
      ],
      "text/plain": [
       "        ProductType  Manufacturer  Area Code  Sourcing Channel  Product Size  \\\n",
       "0             False         False      False             False         False   \n",
       "1             False         False      False             False         False   \n",
       "2             False         False      False             False         False   \n",
       "3             False         False      False             False         False   \n",
       "4             False         False      False             False         False   \n",
       "...             ...           ...        ...               ...           ...   \n",
       "550171        False         False      False             False         False   \n",
       "550172        False         False      False             False         False   \n",
       "550173        False         False      False             False         False   \n",
       "550174        False         False      False             False         False   \n",
       "550175        False         False      False             False         False   \n",
       "\n",
       "        Product Type  Month of Sourcing  Sourcing Cost  \n",
       "0              False              False          False  \n",
       "1              False              False          False  \n",
       "2              False              False          False  \n",
       "3              False              False          False  \n",
       "4              False              False          False  \n",
       "...              ...                ...            ...  \n",
       "550171         False              False          False  \n",
       "550172         False              False          False  \n",
       "550173         False              False          False  \n",
       "550174         False              False          False  \n",
       "550175         False              False          False  \n",
       "\n",
       "[550176 rows x 8 columns]"
      ]
     },
     "execution_count": 12,
     "metadata": {},
     "output_type": "execute_result"
    }
   ],
   "source": [
    "# Check for Null values\n",
    "train_data.isnull()"
   ]
  },
  {
   "cell_type": "code",
   "execution_count": 13,
   "metadata": {
    "colab": {
     "base_uri": "https://localhost:8080/",
     "height": 423
    },
    "id": "h-dOXm1hnnln",
    "outputId": "ec396c83-bc80-4652-fe20-250abf75a73e"
   },
   "outputs": [
    {
     "data": {
      "text/html": [
       "<div>\n",
       "<style scoped>\n",
       "    .dataframe tbody tr th:only-of-type {\n",
       "        vertical-align: middle;\n",
       "    }\n",
       "\n",
       "    .dataframe tbody tr th {\n",
       "        vertical-align: top;\n",
       "    }\n",
       "\n",
       "    .dataframe thead th {\n",
       "        text-align: right;\n",
       "    }\n",
       "</style>\n",
       "<table border=\"1\" class=\"dataframe\">\n",
       "  <thead>\n",
       "    <tr style=\"text-align: right;\">\n",
       "      <th></th>\n",
       "      <th>ProductType</th>\n",
       "      <th>Manufacturer</th>\n",
       "      <th>Area Code</th>\n",
       "      <th>Sourcing Channel</th>\n",
       "      <th>Product Size</th>\n",
       "      <th>Product Type</th>\n",
       "      <th>Month of Sourcing</th>\n",
       "      <th>Sourcing Cost</th>\n",
       "    </tr>\n",
       "  </thead>\n",
       "  <tbody>\n",
       "    <tr>\n",
       "      <th>0</th>\n",
       "      <td>2</td>\n",
       "      <td>0</td>\n",
       "      <td>19</td>\n",
       "      <td>3</td>\n",
       "      <td>1</td>\n",
       "      <td>1</td>\n",
       "      <td>7</td>\n",
       "      <td>10.16</td>\n",
       "    </tr>\n",
       "    <tr>\n",
       "      <th>1</th>\n",
       "      <td>1</td>\n",
       "      <td>0</td>\n",
       "      <td>44</td>\n",
       "      <td>0</td>\n",
       "      <td>1</td>\n",
       "      <td>1</td>\n",
       "      <td>9</td>\n",
       "      <td>134.28</td>\n",
       "    </tr>\n",
       "    <tr>\n",
       "      <th>2</th>\n",
       "      <td>2</td>\n",
       "      <td>1</td>\n",
       "      <td>12</td>\n",
       "      <td>0</td>\n",
       "      <td>1</td>\n",
       "      <td>1</td>\n",
       "      <td>2</td>\n",
       "      <td>12.46</td>\n",
       "    </tr>\n",
       "    <tr>\n",
       "      <th>3</th>\n",
       "      <td>2</td>\n",
       "      <td>0</td>\n",
       "      <td>9</td>\n",
       "      <td>3</td>\n",
       "      <td>2</td>\n",
       "      <td>1</td>\n",
       "      <td>3</td>\n",
       "      <td>107.22</td>\n",
       "    </tr>\n",
       "    <tr>\n",
       "      <th>4</th>\n",
       "      <td>1</td>\n",
       "      <td>0</td>\n",
       "      <td>19</td>\n",
       "      <td>0</td>\n",
       "      <td>1</td>\n",
       "      <td>0</td>\n",
       "      <td>8</td>\n",
       "      <td>197.76</td>\n",
       "    </tr>\n",
       "    <tr>\n",
       "      <th>...</th>\n",
       "      <td>...</td>\n",
       "      <td>...</td>\n",
       "      <td>...</td>\n",
       "      <td>...</td>\n",
       "      <td>...</td>\n",
       "      <td>...</td>\n",
       "      <td>...</td>\n",
       "      <td>...</td>\n",
       "    </tr>\n",
       "    <tr>\n",
       "      <th>550171</th>\n",
       "      <td>1</td>\n",
       "      <td>0</td>\n",
       "      <td>40</td>\n",
       "      <td>0</td>\n",
       "      <td>1</td>\n",
       "      <td>1</td>\n",
       "      <td>5</td>\n",
       "      <td>136.47</td>\n",
       "    </tr>\n",
       "    <tr>\n",
       "      <th>550172</th>\n",
       "      <td>2</td>\n",
       "      <td>0</td>\n",
       "      <td>5</td>\n",
       "      <td>0</td>\n",
       "      <td>1</td>\n",
       "      <td>0</td>\n",
       "      <td>9</td>\n",
       "      <td>72.56</td>\n",
       "    </tr>\n",
       "    <tr>\n",
       "      <th>550173</th>\n",
       "      <td>1</td>\n",
       "      <td>0</td>\n",
       "      <td>40</td>\n",
       "      <td>0</td>\n",
       "      <td>2</td>\n",
       "      <td>1</td>\n",
       "      <td>6</td>\n",
       "      <td>147.64</td>\n",
       "    </tr>\n",
       "    <tr>\n",
       "      <th>550174</th>\n",
       "      <td>1</td>\n",
       "      <td>0</td>\n",
       "      <td>42</td>\n",
       "      <td>0</td>\n",
       "      <td>2</td>\n",
       "      <td>1</td>\n",
       "      <td>3</td>\n",
       "      <td>150.04</td>\n",
       "    </tr>\n",
       "    <tr>\n",
       "      <th>550175</th>\n",
       "      <td>0</td>\n",
       "      <td>0</td>\n",
       "      <td>21</td>\n",
       "      <td>0</td>\n",
       "      <td>2</td>\n",
       "      <td>1</td>\n",
       "      <td>8</td>\n",
       "      <td>139.42</td>\n",
       "    </tr>\n",
       "  </tbody>\n",
       "</table>\n",
       "<p>550176 rows × 8 columns</p>\n",
       "</div>"
      ],
      "text/plain": [
       "        ProductType  Manufacturer  Area Code  Sourcing Channel  Product Size  \\\n",
       "0                 2             0         19                 3             1   \n",
       "1                 1             0         44                 0             1   \n",
       "2                 2             1         12                 0             1   \n",
       "3                 2             0          9                 3             2   \n",
       "4                 1             0         19                 0             1   \n",
       "...             ...           ...        ...               ...           ...   \n",
       "550171            1             0         40                 0             1   \n",
       "550172            2             0          5                 0             1   \n",
       "550173            1             0         40                 0             2   \n",
       "550174            1             0         42                 0             2   \n",
       "550175            0             0         21                 0             2   \n",
       "\n",
       "        Product Type  Month of Sourcing  Sourcing Cost  \n",
       "0                  1                  7          10.16  \n",
       "1                  1                  9         134.28  \n",
       "2                  1                  2          12.46  \n",
       "3                  1                  3         107.22  \n",
       "4                  0                  8         197.76  \n",
       "...              ...                ...            ...  \n",
       "550171             1                  5         136.47  \n",
       "550172             0                  9          72.56  \n",
       "550173             1                  6         147.64  \n",
       "550174             1                  3         150.04  \n",
       "550175             1                  8         139.42  \n",
       "\n",
       "[550176 rows x 8 columns]"
      ]
     },
     "execution_count": 13,
     "metadata": {},
     "output_type": "execute_result"
    }
   ],
   "source": [
    "# Drop Null values\n",
    "train_data.dropna()"
   ]
  },
  {
   "cell_type": "markdown",
   "metadata": {
    "id": "HqVXCQsqhqO2"
   },
   "source": [
    "*There are no null values in the dataset*"
   ]
  },
  {
   "cell_type": "markdown",
   "metadata": {
    "id": "TvnqxfgVi2Mw"
   },
   "source": [
    "# **Random Forest (RF)**"
   ]
  },
  {
   "cell_type": "code",
   "execution_count": 14,
   "metadata": {
    "id": "nSF3OGY6kTPa"
   },
   "outputs": [],
   "source": [
    "# Importing necessary libraries\n",
    "from sklearn.ensemble import RandomForestRegressor\n",
    "from sklearn.ensemble import RandomForestClassifier\n",
    "from sklearn.metrics import mean_squared_error\n",
    "from sklearn.model_selection import train_test_split"
   ]
  },
  {
   "cell_type": "code",
   "execution_count": 15,
   "metadata": {
    "id": "UWuhgObbhc3j"
   },
   "outputs": [],
   "source": [
    "X_train = train_data[['Product Type',\t'Manufacturer',\t'Area Code', 'Sourcing Channel', 'Product Size', 'Product Type', 'Month of Sourcing']]\n",
    "y_train = train_data['Sourcing Cost']"
   ]
  },
  {
   "cell_type": "code",
   "execution_count": 16,
   "metadata": {
    "id": "FcIZsi0Wjg2x"
   },
   "outputs": [],
   "source": [
    "#Train Test Split\n",
    "X_train, X_val, y_train, y_val = train_test_split(X_train, y_train, test_size=0.2, random_state=42)"
   ]
  },
  {
   "cell_type": "code",
   "execution_count": 17,
   "metadata": {
    "id": "49pxfwFpkOIK"
   },
   "outputs": [],
   "source": [
    "# Train a RF Regressor model\n",
    "rf_model = RandomForestRegressor(n_estimators=100, random_state=42)"
   ]
  },
  {
   "cell_type": "code",
   "execution_count": 18,
   "metadata": {
    "colab": {
     "base_uri": "https://localhost:8080/",
     "height": 74
    },
    "id": "YUqdlgg5kWwF",
    "outputId": "beec5db7-beec-442b-b437-e803e6b186bb"
   },
   "outputs": [
    {
     "data": {
      "text/plain": [
       "RandomForestRegressor(random_state=42)"
      ]
     },
     "execution_count": 18,
     "metadata": {},
     "output_type": "execute_result"
    }
   ],
   "source": [
    "rf_model.fit(X_train, y_train)"
   ]
  },
  {
   "cell_type": "code",
   "execution_count": 19,
   "metadata": {
    "colab": {
     "base_uri": "https://localhost:8080/"
    },
    "id": "v9yF9cxlkcZW",
    "outputId": "e6b2f820-d44d-4411-f9ba-6eb91ff1b9fd"
   },
   "outputs": [
    {
     "name": "stdout",
     "output_type": "stream",
     "text": [
      "Training RMSE: 91.57354991124342\n"
     ]
    }
   ],
   "source": [
    "# Evaluate the model on the training set\n",
    "y_train_pred = rf_model.predict(X_train)\n",
    "train_rmse = mean_squared_error(y_train, y_train_pred, squared=False)\n",
    "print(f\"Training RMSE: {train_rmse}\")"
   ]
  },
  {
   "cell_type": "code",
   "execution_count": 20,
   "metadata": {
    "colab": {
     "base_uri": "https://localhost:8080/"
    },
    "id": "CfnNDl1LxH6W",
    "outputId": "bbaace93-b398-4b26-9a59-bceca381105c"
   },
   "outputs": [
    {
     "name": "stdout",
     "output_type": "stream",
     "text": [
      "Predictions for June 2021:\n",
      "    Sourcing Cost  June_2021_predictions\n",
      "0          103.68              92.908657\n",
      "1          155.75             152.486070\n",
      "2          143.02             148.624616\n",
      "3          139.39             139.442398\n",
      "4          169.42             170.093719\n",
      "..            ...                    ...\n",
      "91          89.57              58.035330\n",
      "92         114.57             144.593748\n",
      "93         111.26              94.110457\n",
      "94          32.32              57.345214\n",
      "95          40.73              51.457791\n",
      "\n",
      "[96 rows x 2 columns]\n"
     ]
    }
   ],
   "source": [
    "# Prepare test data features\n",
    "X_test = test_data[['Product Type',\t'Manufacturer',\t'Area Code', 'Sourcing Channel', 'Product Size', 'Product Type', 'Month of Sourcing']]\n",
    "\n",
    "# Predict June 2021 numbers for the test set\n",
    "y_test_pred = rf_model.predict(X_test)\n",
    "\n",
    "# Create DataFrame to store predictions with Sourcing Cost\n",
    "predictions_df = pd.DataFrame({\n",
    "    'Sourcing Cost': test_data['Sourcing Cost'],  # Assuming 'Sourcing Cost' is the column name for identifiers\n",
    "    'June_2021_predictions': y_test_pred\n",
    "})\n",
    "\n",
    "# Print organized predictions\n",
    "print(\"Predictions for June 2021:\")\n",
    "print(predictions_df)\n"
   ]
  },
  {
   "cell_type": "markdown",
   "metadata": {
    "id": "mpLKdWXm6Gr7"
   },
   "source": [
    "# **Decision Tree (DT)**"
   ]
  },
  {
   "cell_type": "code",
   "execution_count": 21,
   "metadata": {
    "id": "O9p2OWI1Y5mj"
   },
   "outputs": [],
   "source": [
    "# Import libraries\n",
    "from sklearn.tree import DecisionTreeRegressor"
   ]
  },
  {
   "cell_type": "code",
   "execution_count": 22,
   "metadata": {
    "colab": {
     "base_uri": "https://localhost:8080/",
     "height": 74
    },
    "id": "rU5YvdLe6c_N",
    "outputId": "8654565e-ebac-4ef3-c4aa-4b6a69d0eed0"
   },
   "outputs": [
    {
     "data": {
      "text/plain": [
       "DecisionTreeRegressor(random_state=42)"
      ]
     },
     "execution_count": 22,
     "metadata": {},
     "output_type": "execute_result"
    }
   ],
   "source": [
    "# Train a Decision Tree Regressor model\n",
    "dt_model = DecisionTreeRegressor(random_state=42)\n",
    "dt_model.fit(X_train, y_train)"
   ]
  },
  {
   "cell_type": "code",
   "execution_count": 23,
   "metadata": {
    "colab": {
     "base_uri": "https://localhost:8080/"
    },
    "id": "8lHgc4Z26fAo",
    "outputId": "658c0d25-73d1-4098-e6ab-8cfe06ffba65"
   },
   "outputs": [
    {
     "name": "stdout",
     "output_type": "stream",
     "text": [
      "Training RMSE (Decision Tree): 91.5693339003729\n"
     ]
    }
   ],
   "source": [
    "# Evaluate the model on the training set\n",
    "y_train_pred_dt = dt_model.predict(X_train)\n",
    "train_rmse_dt = mean_squared_error(y_train, y_train_pred_dt, squared=False)\n",
    "print(f\"Training RMSE (Decision Tree): {train_rmse_dt}\")"
   ]
  },
  {
   "cell_type": "code",
   "execution_count": 24,
   "metadata": {
    "id": "xbTEc6KT6hRZ"
   },
   "outputs": [],
   "source": [
    "# Predict June 2021 numbers for the test set using Decision Tree\n",
    "y_test_pred_dt = dt_model.predict(X_test)"
   ]
  },
  {
   "cell_type": "code",
   "execution_count": 25,
   "metadata": {
    "id": "8leyav2s6jML"
   },
   "outputs": [],
   "source": [
    "# Create DataFrame to store predictions with Sourcing Cost\n",
    "predictions_df_dt = pd.DataFrame({\n",
    "    'Sourcing Cost': test_data['Sourcing Cost'],  # Assuming 'Sourcing Cost' is the column name for identifiers\n",
    "    'June_2021_predictions (Decision Tree)': y_test_pred_dt\n",
    "})"
   ]
  },
  {
   "cell_type": "code",
   "execution_count": 26,
   "metadata": {
    "colab": {
     "base_uri": "https://localhost:8080/"
    },
    "id": "zPsOherI6lQG",
    "outputId": "c7759c34-8707-4b9a-8a15-6f2e8323b224"
   },
   "outputs": [
    {
     "name": "stdout",
     "output_type": "stream",
     "text": [
      "Predictions for June 2021 using Decision Tree:\n",
      "    Sourcing Cost  June_2021_predictions (Decision Tree)\n",
      "0          103.68                              92.999098\n",
      "1          155.75                             152.539971\n",
      "2          143.02                             148.643377\n",
      "3          139.39                             139.347733\n",
      "4          169.42                             170.066407\n",
      "..            ...                                    ...\n",
      "91          89.57                              58.089496\n",
      "92         114.57                             144.590410\n",
      "93         111.26                              93.433648\n",
      "94          32.32                              57.522433\n",
      "95          40.73                              51.452283\n",
      "\n",
      "[96 rows x 2 columns]\n"
     ]
    }
   ],
   "source": [
    "# Print organized predictions for Decision Tree\n",
    "print(\"Predictions for June 2021 using Decision Tree:\")\n",
    "print(predictions_df_dt)"
   ]
  },
  {
   "cell_type": "markdown",
   "metadata": {
    "id": "MDL8UZtv_cPL"
   },
   "source": [
    "# **K - Nearest Neighbours (KNN)**"
   ]
  },
  {
   "cell_type": "code",
   "execution_count": 27,
   "metadata": {
    "id": "qsm8uyd8_EbB"
   },
   "outputs": [],
   "source": [
    "from sklearn.neighbors import KNeighborsRegressor"
   ]
  },
  {
   "cell_type": "code",
   "execution_count": 28,
   "metadata": {
    "colab": {
     "base_uri": "https://localhost:8080/",
     "height": 74
    },
    "id": "vXgZMU5f_IA8",
    "outputId": "d2a135bc-293e-4d1e-f301-f86c1d4eb3d9"
   },
   "outputs": [
    {
     "data": {
      "text/plain": [
       "KNeighborsRegressor()"
      ]
     },
     "execution_count": 28,
     "metadata": {},
     "output_type": "execute_result"
    }
   ],
   "source": [
    "# Train a KNN Regressor model\n",
    "knn_model = KNeighborsRegressor(n_neighbors=5)  # Set the number of neighbors (k) to 5, you can adjust this hyperparameter\n",
    "knn_model.fit(X_train, y_train)"
   ]
  },
  {
   "cell_type": "code",
   "execution_count": 29,
   "metadata": {
    "colab": {
     "base_uri": "https://localhost:8080/"
    },
    "id": "RHDf3gf6_L-7",
    "outputId": "b9a07457-799b-48bf-cd24-9ac6c7647ad7"
   },
   "outputs": [
    {
     "name": "stdout",
     "output_type": "stream",
     "text": [
      "Training RMSE (KNN): 94.68361981173042\n"
     ]
    }
   ],
   "source": [
    "# Evaluate the model on the training set\n",
    "y_train_pred_knn = knn_model.predict(X_train)\n",
    "train_rmse_knn = mean_squared_error(y_train, y_train_pred_knn, squared=False)\n",
    "print(f\"Training RMSE (KNN): {train_rmse_knn}\")"
   ]
  },
  {
   "cell_type": "code",
   "execution_count": 30,
   "metadata": {
    "id": "XA3FdAmM_OT_"
   },
   "outputs": [],
   "source": [
    "# Predict June 2021 numbers for the test set using KNN\n",
    "y_test_pred_knn = knn_model.predict(X_test)"
   ]
  },
  {
   "cell_type": "code",
   "execution_count": 31,
   "metadata": {
    "id": "FJzyoKf4_PaZ"
   },
   "outputs": [],
   "source": [
    "# Create DataFrame to store predictions with Sourcing Cost\n",
    "predictions_df_knn = pd.DataFrame({\n",
    "    'Sourcing Cost': test_data['Sourcing Cost'],  # Assuming 'Sourcing Cost' is the column name for identifiers\n",
    "    'June_2021_predictions (KNN)': y_test_pred_knn\n",
    "})"
   ]
  },
  {
   "cell_type": "code",
   "execution_count": 32,
   "metadata": {
    "colab": {
     "base_uri": "https://localhost:8080/"
    },
    "id": "Trd6zLQF_Unr",
    "outputId": "60891731-0641-4751-9a57-43a42b91a01c"
   },
   "outputs": [
    {
     "name": "stdout",
     "output_type": "stream",
     "text": [
      "Predictions for June 2021 using KNN:\n",
      "    Sourcing Cost  June_2021_predictions (KNN)\n",
      "0          103.68                      101.216\n",
      "1          155.75                      149.808\n",
      "2          143.02                      148.748\n",
      "3          139.39                      142.498\n",
      "4          169.42                      170.734\n",
      "..            ...                          ...\n",
      "91          89.57                       58.098\n",
      "92         114.57                      152.488\n",
      "93         111.26                      142.424\n",
      "94          32.32                       76.854\n",
      "95          40.73                       51.058\n",
      "\n",
      "[96 rows x 2 columns]\n"
     ]
    }
   ],
   "source": [
    "# Print organized predictions for KNN\n",
    "print(\"Predictions for June 2021 using KNN:\")\n",
    "print(predictions_df_knn)"
   ]
  },
  {
   "cell_type": "markdown",
   "metadata": {
    "id": "Ex5QMz2W_7rM"
   },
   "source": [
    "# **Comparison between RF, DT & KNN**"
   ]
  },
  {
   "cell_type": "code",
   "execution_count": 33,
   "metadata": {
    "colab": {
     "base_uri": "https://localhost:8080/"
    },
    "id": "aj-huO1P6nzt",
    "outputId": "29890312-8120-40bc-e29e-1c16ca83e923"
   },
   "outputs": [
    {
     "name": "stdout",
     "output_type": "stream",
     "text": [
      "Validation RMSE (Random Forest): 55.96828432361393\n",
      "Validation RMSE (Decision Tree): 56.17279334430911\n",
      "Validation RMSE (KNN): 59.56297451853048\n"
     ]
    }
   ],
   "source": [
    "# Evaluate the Random Forest model on the validation set\n",
    "y_val_pred_rf = rf_model.predict(X_val)\n",
    "val_rmse_rf = mean_squared_error(y_val, y_val_pred_rf, squared=False)\n",
    "print(f\"Validation RMSE (Random Forest): {val_rmse_rf}\")\n",
    "\n",
    "# Evaluate the Decision Tree model on the validation set\n",
    "y_val_pred_dt = dt_model.predict(X_val)\n",
    "val_rmse_dt = mean_squared_error(y_val, y_val_pred_dt, squared=False)\n",
    "print(f\"Validation RMSE (Decision Tree): {val_rmse_dt}\")\n",
    "\n",
    "# Evaluate the KNN model on the validation set\n",
    "y_val_pred_knn = knn_model.predict(X_val)\n",
    "val_rmse_knn = mean_squared_error(y_val, y_val_pred_knn, squared=False)\n",
    "print(f\"Validation RMSE (KNN): {val_rmse_knn}\")\n"
   ]
  },
  {
   "cell_type": "code",
   "execution_count": 34,
   "metadata": {
    "colab": {
     "base_uri": "https://localhost:8080/"
    },
    "id": "lfFNz26J6zOX",
    "outputId": "62765756-3327-46ce-ace8-564fe0259f64"
   },
   "outputs": [
    {
     "name": "stdout",
     "output_type": "stream",
     "text": [
      "Training Time (Random Forest): 0.0 seconds\n",
      "Training Time (Decision Tree): 0.0 seconds\n",
      "Training Time (KNN): 12.344140768051147 seconds\n"
     ]
    }
   ],
   "source": [
    "import time\n",
    "\n",
    "# Train Random Forest model and measure training time\n",
    "start_time_rf = time.time()\n",
    "end_time_rf = time.time()\n",
    "training_time_rf = end_time_rf - start_time_rf\n",
    "print(f\"Training Time (Random Forest): {training_time_rf} seconds\")\n",
    "\n",
    "# Train Decision Tree model and measure training time\n",
    "start_time_dt = time.time()\n",
    "end_time_dt = time.time()\n",
    "training_time_dt = end_time_dt - start_time_dt\n",
    "print(f\"Training Time (Decision Tree): {training_time_dt} seconds\")\n",
    "\n",
    "# Train KNN model and measure training time\n",
    "start_time_knn = time.time()\n",
    "knn_model.fit(X_train, y_train)\n",
    "end_time_knn = time.time()\n",
    "training_time_knn = end_time_knn - start_time_knn\n",
    "print(f\"Training Time (KNN): {training_time_knn} seconds\")"
   ]
  },
  {
   "cell_type": "markdown",
   "metadata": {
    "id": "nH2oYylM8rFq"
   },
   "source": [
    "# **Comparison between Decision Tree and Random Forest**"
   ]
  },
  {
   "cell_type": "markdown",
   "metadata": {
    "id": "LiWCSyvn8yri"
   },
   "source": [
    "***Model Performance:***\n",
    "\n",
    "\n",
    "\n",
    "*   Random Forest: In most situations, Random Forest performs better than a single Decision Tree. By averaging many decision trees, it lessens overfitting and produces predictions that are more reliable, particularly for complicated datasets with high volatility.\n",
    "\n",
    "*   Decision Tree: A decision tree with an excessive amount of training data may not be able to generalise well to new data. However, Decision Trees can yield good results on smaller datasets or where interpretability is more important than efficiency.\n",
    "\n",
    "*   KNN: K-Nearest Neighbours, or KNN, is a straightforward yet effective technique that works well with a variety of datasets. The distance measure and the number of neighbours (k) that are selected have a significant impact on its performance. When the dataset is not too big and the decision border is smooth, KNN often performs better.\n",
    "\n"
   ]
  },
  {
   "cell_type": "markdown",
   "metadata": {
    "id": "4JzLHDfT9Qwx"
   },
   "source": [
    "***Computational Complexity:***\n",
    "\n",
    "\n",
    "\n",
    "*   Random Forest: Random Forest requires concurrent training of several decision trees, which can be computationally costly, particularly when dealing with big datasets or a lot of trees. However, because the model runs in parallel, prediction times are often faster.\n",
    "\n",
    "*   Decision Tree: In general, training a single Decision Tree takes less time than training a Random Forest. But because prediction requires scanning the whole tree structure, it could take longer, particularly for deep trees.\n",
    "\n",
    "*   KNN: Especially for big datasets, training a KNN model requires keeping all of the training data points, which makes it memory-intensive. For big datasets or high-dimensional feature spaces, computing the distances to all training points is necessary in order to predict the label of a new data point, and this can be computationally costly.\n"
   ]
  },
  {
   "cell_type": "markdown",
   "metadata": {
    "id": "W2sbuNRw9obe"
   },
   "source": [
    "***Robustness:***\n",
    "\n",
    "\n",
    "\n",
    "*   Random Forest: Because several trees are averaged, Random Forest models are typically more resilient to noise and outliers in the data. They can deal with missing numbers better and are less susceptible to individual data points.\n",
    "\n",
    "*   Decision Tree: When dealing with noisy or outlier-filled datasets, Decision Trees are particularly vulnerable to overfitting. They could draw intricate decision boundaries that isolate noise from the data's underlying trends.\n",
    "\n",
    "*   KNN: KNN is affected by the features' scale and the distance metric selected. When there are irrelevant features in the dataset or when the feature scales are inconsistent, it could not function properly. Additionally, datasets containing a lot of noise or outliers may be difficult for KNN to process.\n",
    "\n"
   ]
  },
  {
   "cell_type": "markdown",
   "metadata": {
    "id": "KCVq50rU-D6I"
   },
   "source": [
    "***Feature Importance:***\n",
    "\n",
    "\n",
    "\n",
    "*   Random Forest: Random Forest offers feature relevance ratings that show how much each feature contributes to the prediction power of the model. Selecting features and determining which characteristics are most relevant can both benefit from this.\n",
    "\n",
    "*   Decision Tree: By examining the tree structure and the frequency of feature splits, you can still understand feature significance even though Decision Trees don't explicitly offer feature importance scores.\n",
    "\n",
    "*   KNN: KNN does not offer clear feature significance ratings, in contrast to decision tree-based models like Random Forest and Decision Tree. Features in a KNN are considered relevant based on how they help determine the distance between two points and, ultimately, whether to classify the data as regression or classification. However, compared to tree-based models, determining the significance of a feature in a KNN is more difficult.\n",
    "\n",
    "\n"
   ]
  },
  {
   "cell_type": "markdown",
   "metadata": {
    "id": "wrfBakhE-E1S"
   },
   "source": [
    "# **Final approach taken**"
   ]
  },
  {
   "cell_type": "markdown",
   "metadata": {
    "id": "HbLpTQX-CVOZ"
   },
   "source": [
    "The final approach used is training three distinct machine learning models: K-Nearest Neighbours (KNN), Decision Tree, and Random Forest. The training dataset is used to train each model, and a validation set is used to assess each model using root mean squared error, or RMSE. Lastly, predictions are made using the models on the test dataset.\n",
    "\n",
    "The final model selected will ultimately be determined by how well it performs on the validation set and how effectively it generalises to new data. This method guarantees that the best machine learning model is chosen for the given job by enabling a thorough comparison of many models.\n",
    "\n",
    "The **Random Forest** model is perhaps the best option out of the three. On complicated datasets, it typically outperforms Decision Trees and K-Nearest Neighbours (KNN). The ensemble approach of Random Forest reduces overfitting and yields more precise predictions. Furthermore, it frequently gets a lower RMSE on the validation set, which suggests improved performance with fresh data. As a result, in this case, Random Forest is the best choice for prediction."
   ]
  },
  {
   "cell_type": "code",
   "execution_count": null,
   "metadata": {},
   "outputs": [],
   "source": []
  }
 ],
 "metadata": {
  "colab": {
   "provenance": []
  },
  "kernelspec": {
   "display_name": "Python 3",
   "language": "python",
   "name": "python3"
  },
  "language_info": {
   "codemirror_mode": {
    "name": "ipython",
    "version": 3
   },
   "file_extension": ".py",
   "mimetype": "text/x-python",
   "name": "python",
   "nbconvert_exporter": "python",
   "pygments_lexer": "ipython3",
   "version": "3.8.8"
  }
 },
 "nbformat": 4,
 "nbformat_minor": 1
}
